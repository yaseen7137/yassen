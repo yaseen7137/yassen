{
 "cells": [
  {
   "cell_type": "code",
   "execution_count": 1,
   "id": "0f9475a4-dfde-4116-b2d3-11b890a76fab",
   "metadata": {},
   "outputs": [],
   "source": [
    "from sklearn.feature_extraction.text import CountVectorizer"
   ]
  },
  {
   "cell_type": "code",
   "execution_count": 2,
   "id": "56ccc487-e96f-43c1-980a-bd134277a3fc",
   "metadata": {},
   "outputs": [
    {
     "data": {
      "text/plain": [
       "['ahmed ali mohamed saad',\n",
       " 'the ahmed is not the hawos',\n",
       " 'the ali is up the hors']"
      ]
     },
     "execution_count": 2,
     "metadata": {},
     "output_type": "execute_result"
    }
   ],
   "source": [
    "Dheya=[\n",
    "    'ahmed ali mohamed saad',\n",
    "    'the ahmed is not the hawos',\n",
    "    'the ali is up the hors'\n",
    "    \n",
    "]\n",
    "Dheya"
   ]
  },
  {
   "cell_type": "code",
   "execution_count": 3,
   "id": "323d3ca1-d7c9-42ef-839b-cbc97f1fec44",
   "metadata": {},
   "outputs": [],
   "source": [
    "dia=CountVectorizer()\n",
    "x=dia.fit_transform(Dheya)"
   ]
  },
  {
   "cell_type": "code",
   "execution_count": 4,
   "id": "e9310331-c49f-4b21-b236-8fb0bfefc7a2",
   "metadata": {},
   "outputs": [
    {
     "data": {
      "text/plain": [
       "array(['ahmed', 'ali', 'hawos', 'hors', 'is', 'mohamed', 'not', 'saad',\n",
       "       'the', 'up'], dtype=object)"
      ]
     },
     "execution_count": 4,
     "metadata": {},
     "output_type": "execute_result"
    }
   ],
   "source": [
    "dia.get_feature_names_out()"
   ]
  },
  {
   "cell_type": "code",
   "execution_count": 5,
   "id": "af24a70e-760e-403a-9eca-657d13546881",
   "metadata": {},
   "outputs": [
    {
     "name": "stdout",
     "output_type": "stream",
     "text": [
      "[[1 1 0 0 0 1 0 1 0 0]\n",
      " [1 0 1 0 1 0 1 0 2 0]\n",
      " [0 1 0 1 1 0 0 0 2 1]]\n"
     ]
    }
   ],
   "source": [
    "print(x.toarray())"
   ]
  },
  {
   "cell_type": "code",
   "execution_count": null,
   "id": "b2b74169-398e-4f6b-8d9c-9b43e2396f8b",
   "metadata": {},
   "outputs": [],
   "source": []
  }
 ],
 "metadata": {
  "kernelspec": {
   "display_name": "Python 3 (ipykernel)",
   "language": "python",
   "name": "python3"
  },
  "language_info": {
   "codemirror_mode": {
    "name": "ipython",
    "version": 3
   },
   "file_extension": ".py",
   "mimetype": "text/x-python",
   "name": "python",
   "nbconvert_exporter": "python",
   "pygments_lexer": "ipython3",
   "version": "3.12.4"
  }
 },
 "nbformat": 4,
 "nbformat_minor": 5
}
